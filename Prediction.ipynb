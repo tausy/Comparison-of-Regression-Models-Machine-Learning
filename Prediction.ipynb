{
 "cells": [
  {
   "cell_type": "markdown",
   "metadata": {},
   "source": [
    "# Part I - Analysis on abalone dataset"
   ]
  },
  {
   "cell_type": "markdown",
   "metadata": {},
   "source": [
    "## Setup package imports"
   ]
  },
  {
   "cell_type": "code",
   "execution_count": 1,
   "metadata": {},
   "outputs": [],
   "source": [
    "import os\n",
    "import numpy as np\n",
    "import pandas as pd\n",
    "from matplotlib import pyplot as plt\n",
    "from sklearn import neighbors\n",
    "from sklearn.metrics import mean_squared_error\n",
    "from sklearn.metrics import mean_absolute_error\n",
    "from sklearn.tree import DecisionTreeRegressor\n",
    "%matplotlib inline"
   ]
  },
  {
   "cell_type": "markdown",
   "metadata": {},
   "source": [
    "## Setup defined Imports"
   ]
  },
  {
   "cell_type": "code",
   "execution_count": 2,
   "metadata": {},
   "outputs": [],
   "source": [
    "from LeastSquaresLinearRegression import LeastSquaresLinearRegressor\n",
    "from evaluate_perf_metrics import (\n",
    "    calc_perf_metric__absolute_error, calc_perf_metric__squared_error,\n",
    "    calc_perf_metrics_for_regressor_on_dataset)"
   ]
  },
  {
   "cell_type": "markdown",
   "metadata": {},
   "source": [
    "## Load Abalone Dataset "
   ]
  },
  {
   "cell_type": "code",
   "execution_count": 3,
   "metadata": {},
   "outputs": [],
   "source": [
    "x_train = pd.read_csv('data_abalone/x_train.csv')\n",
    "#x_train.head()\n",
    "y_train = pd.read_csv('data_abalone/y_train.csv')\n",
    "#y_train.head()\n",
    "x_valid = pd.read_csv('data_abalone/x_valid.csv')\n",
    "#x_valid.head()\n",
    "y_valid = pd.read_csv('data_abalone/y_valid.csv')\n",
    "#y_valid.head()\n",
    "x_test = pd.read_csv('data_abalone/x_test.csv')\n",
    "#x_test.head()\n",
    "y_test = pd.read_csv('data_abalone/y_test.csv')\n",
    "#y_test.head()"
   ]
  },
  {
   "cell_type": "markdown",
   "metadata": {},
   "source": [
    "## Histograms of response variable 'rings'"
   ]
  },
  {
   "cell_type": "code",
   "execution_count": 4,
   "metadata": {},
   "outputs": [
    {
     "data": {
      "image/png": "[encoded data removed]",
      "text/plain": [
       "<Figure size 864x432 with 3 Axes>"
      ]
     },
     "metadata": {
      "needs_background": "light"
     },
     "output_type": "display_data"
    }
   ],
   "source": [
    "y1 = y_train.values\n",
    "y2 = y_valid.values\n",
    "y3 = y_test.values\n",
    "\n",
    "#Creates two subplots and unpacks the output array immediately\n",
    "f, (ax1, ax2, ax3) = plt.subplots(1, 3, sharey=True, figsize=(12,6))\n",
    "ax1.hist(y1)\n",
    "ax1.set_title('Y_train')\n",
    "ax2.hist(y2, bins=20)\n",
    "ax2.set_title('Y_valid')\n",
    "ax3.hist(y3, bins=20)\n",
    "ax3.set_title('Y_test')\n",
    "plt.show()"
   ]
  },
  {
   "cell_type": "markdown",
   "metadata": {},
   "source": [
    "## Descriptive statistics"
   ]
  },
  {
   "cell_type": "code",
   "execution_count": 5,
   "metadata": {},
   "outputs": [
    {
     "data": {
      "text/html": [
       "<div>\n",
       "<style scoped>\n",
       "    .dataframe tbody tr th:only-of-type {\n",
       "        vertical-align: middle;\n",
       "    }\n",
       "\n",
       "    .dataframe tbody tr th {\n",
       "        vertical-align: top;\n",
       "    }\n",
       "\n",
       "    .dataframe thead th {\n",
       "        text-align: right;\n",
       "    }\n",
       "</style>\n",
       "<table border=\"1\" class=\"dataframe\">\n",
       "  <thead>\n",
       "    <tr style=\"text-align: right;\">\n",
       "      <th></th>\n",
       "      <th>rings</th>\n",
       "    </tr>\n",
       "  </thead>\n",
       "  <tbody>\n",
       "    <tr>\n",
       "      <th>count</th>\n",
       "      <td>3176.000000</td>\n",
       "    </tr>\n",
       "    <tr>\n",
       "      <th>mean</th>\n",
       "      <td>9.902393</td>\n",
       "    </tr>\n",
       "    <tr>\n",
       "      <th>std</th>\n",
       "      <td>3.205887</td>\n",
       "    </tr>\n",
       "    <tr>\n",
       "      <th>min</th>\n",
       "      <td>1.000000</td>\n",
       "    </tr>\n",
       "    <tr>\n",
       "      <th>25%</th>\n",
       "      <td>8.000000</td>\n",
       "    </tr>\n",
       "    <tr>\n",
       "      <th>50%</th>\n",
       "      <td>9.000000</td>\n",
       "    </tr>\n",
       "    <tr>\n",
       "      <th>75%</th>\n",
       "      <td>11.000000</td>\n",
       "    </tr>\n",
       "    <tr>\n",
       "      <th>max</th>\n",
       "      <td>29.000000</td>\n",
       "    </tr>\n",
       "  </tbody>\n",
       "</table>\n",
       "</div>"
      ],
      "text/plain": [
       "             rings\n",
       "count  3176.000000\n",
       "mean      9.902393\n",
       "std       3.205887\n",
       "min       1.000000\n",
       "25%       8.000000\n",
       "50%       9.000000\n",
       "75%      11.000000\n",
       "max      29.000000"
      ]
     },
     "execution_count": 5,
     "metadata": {},
     "output_type": "execute_result"
    }
   ],
   "source": [
    "y_train.describe()"
   ]
  },
  {
   "cell_type": "markdown",
   "metadata": {},
   "source": [
    "## Scatterplots of 'rings' vs 'diam' and 'rings' vs 'shucked'"
   ]
  },
  {
   "cell_type": "code",
   "execution_count": 6,
   "metadata": {
    "scrolled": false
   },
   "outputs": [
    {
     "data": {
      "image/png": "[encoded data removed]",
      "text/plain": [
       "<Figure size 864x432 with 2 Axes>"
      ]
     },
     "metadata": {
      "needs_background": "light"
     },
     "output_type": "display_data"
    }
   ],
   "source": [
    "x_train_diam_mm = x_train.diam_mm.values\n",
    "y_train_rings = y_train.values\n",
    "x_train_shucked_weight_g = x_train.shucked_weight_g.values\n",
    "\n",
    "#Creates two subplots and unpacks the output array immediately\n",
    "f, (ax1, ax2) = plt.subplots(1, 2, sharey=True, figsize=(12,6))\n",
    "ax1.scatter(x_train_diam_mm, y_train_rings)\n",
    "ax1.set_title('diam_mm vs rings')\n",
    "ax2.scatter(x_train_shucked_weight_g, y_train_rings)\n",
    "ax2.set_title('x_train_shucked_weight_g vs rings')\n",
    "plt.show()"
   ]
  },
  {
   "cell_type": "markdown",
   "metadata": {},
   "source": [
    "## Baseline Prediction using Mean and Median - Mean Squared Error(MSE)"
   ]
  },
  {
   "cell_type": "code",
   "execution_count": 7,
   "metadata": {},
   "outputs": [
    {
     "data": {
      "text/html": [
       "<div>\n",
       "<style scoped>\n",
       "    .dataframe tbody tr th:only-of-type {\n",
       "        vertical-align: middle;\n",
       "    }\n",
       "\n",
       "    .dataframe tbody tr th {\n",
       "        vertical-align: top;\n",
       "    }\n",
       "\n",
       "    .dataframe thead th {\n",
       "        text-align: right;\n",
       "    }\n",
       "</style>\n",
       "<table border=\"1\" class=\"dataframe\">\n",
       "  <thead>\n",
       "    <tr style=\"text-align: right;\">\n",
       "      <th></th>\n",
       "      <th>split</th>\n",
       "      <th>guess-mean</th>\n",
       "      <th>guess-median</th>\n",
       "    </tr>\n",
       "  </thead>\n",
       "  <tbody>\n",
       "    <tr>\n",
       "      <th>0</th>\n",
       "      <td>train</td>\n",
       "      <td>10.274478</td>\n",
       "      <td>11.088791</td>\n",
       "    </tr>\n",
       "    <tr>\n",
       "      <th>1</th>\n",
       "      <td>valid</td>\n",
       "      <td>10.933100</td>\n",
       "      <td>10.934000</td>\n",
       "    </tr>\n",
       "    <tr>\n",
       "      <th>2</th>\n",
       "      <td>test</td>\n",
       "      <td>10.549324</td>\n",
       "      <td>10.550000</td>\n",
       "    </tr>\n",
       "  </tbody>\n",
       "</table>\n",
       "</div>"
      ],
      "text/plain": [
       "   split  guess-mean  guess-median\n",
       "0  train   10.274478     11.088791\n",
       "1  valid   10.933100     10.934000\n",
       "2   test   10.549324     10.550000"
      ]
     },
     "execution_count": 7,
     "metadata": {},
     "output_type": "execute_result"
    }
   ],
   "source": [
    "# Calculate MSE for Mean and Median Baseline Predictors\n",
    "\n",
    "## Training Set\n",
    "y_train_mean_mse = calc_perf_metric__squared_error(y_train.mean(), y_train)\n",
    "y_train_median_mse = calc_perf_metric__squared_error(y_train.median(), y_train)\n",
    "\n",
    "## Testing Set\n",
    "y_test_mean_mse = calc_perf_metric__squared_error(y_test.mean(), y_test)\n",
    "y_test_median_mse = calc_perf_metric__squared_error(y_test.median(), y_test)\n",
    "\n",
    "## Validation Set\n",
    "y_valid_mean_mse = calc_perf_metric__squared_error(y_valid.mean(), y_valid)\n",
    "y_valid_median_mse = calc_perf_metric__squared_error(y_valid.median(), y_valid)\n",
    "\n",
    "results = pd.DataFrame({'split':['train','valid','test'],\n",
    "                       'guess-mean':[y_train_mean_mse.rings, y_valid_mean_mse.rings, y_test_mean_mse.rings],\n",
    "                       'guess-median':[y_train_median_mse.rings, y_valid_median_mse.rings, y_test_median_mse.rings]\n",
    "                       })\n",
    "results"
   ]
  },
  {
   "cell_type": "markdown",
   "metadata": {},
   "source": [
    "## Linear Regression Model for two features - MSE for train, valid and test splits"
   ]
  },
  {
   "cell_type": "code",
   "execution_count": 8,
   "metadata": {},
   "outputs": [],
   "source": [
    "## LeastSquaresLinearRegression.py. This file defines a LeastSquaresLinearRegressor class with the two key methods of the usual sklearn regression API: fit and predict.\n",
    "##edit this file to complete the fit and the predict methods."
   ]
  },
  {
   "cell_type": "code",
   "execution_count": 9,
   "metadata": {},
   "outputs": [
    {
     "data": {
      "text/html": [
       "<div>\n",
       "<style scoped>\n",
       "    .dataframe tbody tr th:only-of-type {\n",
       "        vertical-align: middle;\n",
       "    }\n",
       "\n",
       "    .dataframe tbody tr th {\n",
       "        vertical-align: top;\n",
       "    }\n",
       "\n",
       "    .dataframe thead th {\n",
       "        text-align: right;\n",
       "    }\n",
       "</style>\n",
       "<table border=\"1\" class=\"dataframe\">\n",
       "  <thead>\n",
       "    <tr style=\"text-align: right;\">\n",
       "      <th></th>\n",
       "      <th>diam_mm</th>\n",
       "      <th>shucked_weight_g</th>\n",
       "    </tr>\n",
       "  </thead>\n",
       "  <tbody>\n",
       "    <tr>\n",
       "      <th>0</th>\n",
       "      <td>0.325</td>\n",
       "      <td>0.2170</td>\n",
       "    </tr>\n",
       "    <tr>\n",
       "      <th>1</th>\n",
       "      <td>0.445</td>\n",
       "      <td>0.3810</td>\n",
       "    </tr>\n",
       "    <tr>\n",
       "      <th>2</th>\n",
       "      <td>0.475</td>\n",
       "      <td>0.3465</td>\n",
       "    </tr>\n",
       "    <tr>\n",
       "      <th>3</th>\n",
       "      <td>0.350</td>\n",
       "      <td>0.2365</td>\n",
       "    </tr>\n",
       "    <tr>\n",
       "      <th>4</th>\n",
       "      <td>0.555</td>\n",
       "      <td>0.6470</td>\n",
       "    </tr>\n",
       "  </tbody>\n",
       "</table>\n",
       "</div>"
      ],
      "text/plain": [
       "   diam_mm  shucked_weight_g\n",
       "0    0.325            0.2170\n",
       "1    0.445            0.3810\n",
       "2    0.475            0.3465\n",
       "3    0.350            0.2365\n",
       "4    0.555            0.6470"
      ]
     },
     "execution_count": 9,
     "metadata": {},
     "output_type": "execute_result"
    }
   ],
   "source": [
    "x_train[['diam_mm', 'shucked_weight_g']].head()"
   ]
  },
  {
   "cell_type": "code",
   "execution_count": 10,
   "metadata": {},
   "outputs": [
    {
     "data": {
      "text/html": [
       "<div>\n",
       "<style scoped>\n",
       "    .dataframe tbody tr th:only-of-type {\n",
       "        vertical-align: middle;\n",
       "    }\n",
       "\n",
       "    .dataframe tbody tr th {\n",
       "        vertical-align: top;\n",
       "    }\n",
       "\n",
       "    .dataframe thead th {\n",
       "        text-align: right;\n",
       "    }\n",
       "</style>\n",
       "<table border=\"1\" class=\"dataframe\">\n",
       "  <thead>\n",
       "    <tr style=\"text-align: right;\">\n",
       "      <th></th>\n",
       "      <th>split</th>\n",
       "      <th>guess-mean</th>\n",
       "      <th>guess-median</th>\n",
       "      <th>linear regr (2 feats)</th>\n",
       "    </tr>\n",
       "  </thead>\n",
       "  <tbody>\n",
       "    <tr>\n",
       "      <th>0</th>\n",
       "      <td>train</td>\n",
       "      <td>10.274478</td>\n",
       "      <td>11.088791</td>\n",
       "      <td>6.496134</td>\n",
       "    </tr>\n",
       "    <tr>\n",
       "      <th>1</th>\n",
       "      <td>valid</td>\n",
       "      <td>10.933100</td>\n",
       "      <td>10.934000</td>\n",
       "      <td>6.534072</td>\n",
       "    </tr>\n",
       "    <tr>\n",
       "      <th>2</th>\n",
       "      <td>test</td>\n",
       "      <td>10.549324</td>\n",
       "      <td>10.550000</td>\n",
       "      <td>6.739824</td>\n",
       "    </tr>\n",
       "  </tbody>\n",
       "</table>\n",
       "</div>"
      ],
      "text/plain": [
       "   split  guess-mean  guess-median  linear regr (2 feats)\n",
       "0  train   10.274478     11.088791               6.496134\n",
       "1  valid   10.933100     10.934000               6.534072\n",
       "2   test   10.549324     10.550000               6.739824"
      ]
     },
     "execution_count": 10,
     "metadata": {},
     "output_type": "execute_result"
    }
   ],
   "source": [
    "linear_regressor_2feats = LeastSquaresLinearRegressor()\n",
    "# fit and evaluate 2 features\n",
    "linear_regressor_2feats.fit(x_train[['diam_mm','shucked_weight_g']],y_train)\n",
    "\n",
    "lin_reg_2f_train = linear_regressor_2feats.predict(x_train[['diam_mm','shucked_weight_g']])\n",
    "mse_train_2f = calc_perf_metric__squared_error(y_train, lin_reg_2f_train)\n",
    "\n",
    "lin_reg_2f_test = linear_regressor_2feats.predict(x_test[['diam_mm','shucked_weight_g']])\n",
    "mse_test_2f = calc_perf_metric__squared_error(y_test, lin_reg_2f_test)\n",
    "\n",
    "lin_reg_2f_valid = linear_regressor_2feats.predict(x_valid[['diam_mm','shucked_weight_g']])\n",
    "mse_valid_2f = calc_perf_metric__squared_error(y_valid, lin_reg_2f_valid)\n",
    "results['linear regr (2 feats)'] = [mse_train_2f.rings, mse_valid_2f.rings, mse_test_2f.rings]\n",
    "results"
   ]
  },
  {
   "cell_type": "markdown",
   "metadata": {},
   "source": [
    "## Linear Regression Model for all features - MSE for train, valid and test splits"
   ]
  },
  {
   "cell_type": "code",
   "execution_count": 11,
   "metadata": {},
   "outputs": [],
   "source": [
    "linear_regressor_8feats = LeastSquaresLinearRegressor()\n",
    "# fit and evaluate 8 features\n",
    "linear_regressor_8feats.fit(x_train,y_train)\n",
    "\n",
    "lin_reg_8f_train = linear_regressor_8feats.predict(x_train)\n",
    "mse_train_8f = calc_perf_metric__squared_error(y_train, lin_reg_8f_train)\n",
    "\n",
    "lin_reg_8f_test = linear_regressor_8feats.predict(x_test)\n",
    "mse_test_8f = calc_perf_metric__squared_error(y_test, lin_reg_8f_test)\n",
    "\n",
    "lin_reg_8f_valid = linear_regressor_8feats.predict(x_valid)\n",
    "mse_valid_8f = calc_perf_metric__squared_error(y_valid, lin_reg_8f_valid)\n",
    "results['linear regr (8 feats)'] = [mse_train_8f.rings, mse_valid_8f.rings, mse_test_8f.rings]"
   ]
  },
  {
   "cell_type": "markdown",
   "metadata": {},
   "source": [
    "## Results Table for Mean Squared Error on Abalone"
   ]
  },
  {
   "cell_type": "code",
   "execution_count": 12,
   "metadata": {},
   "outputs": [
    {
     "data": {
      "text/html": [
       "<div>\n",
       "<style scoped>\n",
       "    .dataframe tbody tr th:only-of-type {\n",
       "        vertical-align: middle;\n",
       "    }\n",
       "\n",
       "    .dataframe tbody tr th {\n",
       "        vertical-align: top;\n",
       "    }\n",
       "\n",
       "    .dataframe thead th {\n",
       "        text-align: right;\n",
       "    }\n",
       "</style>\n",
       "<table border=\"1\" class=\"dataframe\">\n",
       "  <thead>\n",
       "    <tr style=\"text-align: right;\">\n",
       "      <th></th>\n",
       "      <th>split</th>\n",
       "      <th>guess-mean</th>\n",
       "      <th>guess-median</th>\n",
       "      <th>linear regr (2 feats)</th>\n",
       "      <th>linear regr (8 feats)</th>\n",
       "    </tr>\n",
       "  </thead>\n",
       "  <tbody>\n",
       "    <tr>\n",
       "      <th>0</th>\n",
       "      <td>train</td>\n",
       "      <td>10.274478</td>\n",
       "      <td>11.088791</td>\n",
       "      <td>6.496134</td>\n",
       "      <td>5.053198</td>\n",
       "    </tr>\n",
       "    <tr>\n",
       "      <th>1</th>\n",
       "      <td>valid</td>\n",
       "      <td>10.933100</td>\n",
       "      <td>10.934000</td>\n",
       "      <td>6.534072</td>\n",
       "      <td>5.206491</td>\n",
       "    </tr>\n",
       "    <tr>\n",
       "      <th>2</th>\n",
       "      <td>test</td>\n",
       "      <td>10.549324</td>\n",
       "      <td>10.550000</td>\n",
       "      <td>6.739824</td>\n",
       "      <td>4.573249</td>\n",
       "    </tr>\n",
       "  </tbody>\n",
       "</table>\n",
       "</div>"
      ],
      "text/plain": [
       "   split  guess-mean  guess-median  linear regr (2 feats)  \\\n",
       "0  train   10.274478     11.088791               6.496134   \n",
       "1  valid   10.933100     10.934000               6.534072   \n",
       "2   test   10.549324     10.550000               6.739824   \n",
       "\n",
       "   linear regr (8 feats)  \n",
       "0               5.053198  \n",
       "1               5.206491  \n",
       "2               4.573249  "
      ]
     },
     "execution_count": 12,
     "metadata": {},
     "output_type": "execute_result"
    }
   ],
   "source": [
    "results"
   ]
  },
  {
   "cell_type": "markdown",
   "metadata": {},
   "source": [
    "## Linear Regression Coef Interpretation"
   ]
  },
  {
   "cell_type": "markdown",
   "metadata": {},
   "source": [
    "### Show the learned coefficients for the \"2 features\" dataset."
   ]
  },
  {
   "cell_type": "code",
   "execution_count": 13,
   "metadata": {},
   "outputs": [
    {
     "data": {
      "text/plain": [
       "array([[29.53045134],\n",
       "       [-5.88134108]])"
      ]
     },
     "execution_count": 13,
     "metadata": {},
     "output_type": "execute_result"
    }
   ],
   "source": [
    "linear_regressor_2feats.w_F"
   ]
  },
  {
   "cell_type": "markdown",
   "metadata": {},
   "source": [
    "### Show the learned coefficients for the \"8 features\" dataset."
   ]
  },
  {
   "cell_type": "code",
   "execution_count": 14,
   "metadata": {},
   "outputs": [
    {
     "data": {
      "text/plain": [
       "array([[  0.44175158],\n",
       "       [  5.38062998],\n",
       "       [ 14.77869256],\n",
       "       [ 12.86561885],\n",
       "       [  9.3300084 ],\n",
       "       [-21.54036538],\n",
       "       [-12.34553444],\n",
       "       [  5.5468362 ]])"
      ]
     },
     "execution_count": 14,
     "metadata": {},
     "output_type": "execute_result"
    }
   ],
   "source": [
    "linear_regressor_8feats.w_F"
   ]
  },
  {
   "cell_type": "markdown",
   "metadata": {},
   "source": [
    "## Model selection for K-Nearest Neighbor Regressor"
   ]
  },
  {
   "cell_type": "code",
   "execution_count": 15,
   "metadata": {},
   "outputs": [],
   "source": [
    "# Apply K nearest neighbors regression to the full \"8 feature\" version of the abalone dataset. \n",
    "# Use the KNeighborsRegressor class provided by sklearn.\n",
    "\n",
    "# Explore various values for the number of neighbors K: 1, 3, 5, 7, 9, 11, 21, 41, 61, 81, 101, 201, 401, 801. \n",
    "# Also include N, the total size of the training data.\n",
    "\n",
    "#For each value, train a KNeighborsRegressor and evaluate it on the training set and the validation set.\n"
   ]
  },
  {
   "cell_type": "code",
   "execution_count": 16,
   "metadata": {},
   "outputs": [],
   "source": [
    "n_neighbors = [1, 3, 5, 7, 11, 21, 41, 61, 81, 101, 201, 401, 801, 3176]\n",
    "train_mse = []\n",
    "valid_mse = []\n",
    "test_mse = []\n",
    "for K in n_neighbors:\n",
    "    model = neighbors.KNeighborsRegressor(n_neighbors = K)\n",
    "    model.fit(x_train, y_train)  #fit the model\n",
    "    pred_train = model.predict(x_train) #make prediction on train set\n",
    "    pred_test = model.predict(x_test) #make prediction on test set\n",
    "    error_train = mean_squared_error(y_train, pred_train) #calculate mse for train set\n",
    "    error_test = mean_squared_error(y_test, pred_test) #calculate mse for test set\n",
    "    pred_valid = model.predict(x_valid) #make prediction on validation set\n",
    "    error_validation = mean_squared_error(y_valid, pred_valid) #calculate mse for validation set\n",
    "    train_mse.append(error_train) # store mse values\n",
    "    test_mse.append(error_test) #store mse values\n",
    "    valid_mse.append(error_validation)"
   ]
  },
  {
   "cell_type": "markdown",
   "metadata": {},
   "source": [
    "### Make a line plot for mean-squared-error (MSE) vs K on the validation set"
   ]
  },
  {
   "cell_type": "code",
   "execution_count": 17,
   "metadata": {},
   "outputs": [
    {
     "data": {
      "image/png": "[encoded data removed]",
      "text/plain": [
       "<Figure size 432x288 with 1 Axes>"
      ]
     },
     "metadata": {
      "needs_background": "light"
     },
     "output_type": "display_data"
    }
   ],
   "source": [
    "#plotting the mse values against k values\n",
    "curve = pd.DataFrame(valid_mse) #elbow curve\n",
    "plt.plot(n_neighbors, valid_mse, 'rs-')\n",
    "plt.plot(n_neighbors, train_mse, 'r:')\n",
    "plt.show()"
   ]
  },
  {
   "cell_type": "markdown",
   "metadata": {},
   "source": [
    "### Make a ZOOMED IN line plot for mean-squared-error (MSE) vs K on the validation set"
   ]
  },
  {
   "cell_type": "code",
   "execution_count": 18,
   "metadata": {},
   "outputs": [
    {
     "data": {
      "image/png": "[encoded data removed]",
      "text/plain": [
       "<Figure size 432x288 with 1 Axes>"
      ]
     },
     "metadata": {
      "needs_background": "light"
     },
     "output_type": "display_data"
    }
   ],
   "source": [
    "#plotting the rmse values against k values\n",
    "plt.plot(n_neighbors, valid_mse, 'rs-')\n",
    "plt.title('MSE vs K')\n",
    "plt.xlabel('MSE')\n",
    "plt.ylabel('K')\n",
    "plt.margins(0.01)\n",
    "plt.show()"
   ]
  },
  {
   "cell_type": "code",
   "execution_count": 19,
   "metadata": {},
   "outputs": [],
   "source": [
    "# Table showing the MSE of the selected best K-NN regressor from previous step evaluated on all three splits\n",
    "K=5 # best K-NN regressor selected from elbow curve\n",
    "results['k-NN(8 feats)'] = [train_mse[2], valid_mse[2], test_mse[2]]"
   ]
  },
  {
   "cell_type": "markdown",
   "metadata": {},
   "source": [
    "### Cumulative results table with K-Nearest Neighbor"
   ]
  },
  {
   "cell_type": "code",
   "execution_count": 20,
   "metadata": {},
   "outputs": [
    {
     "data": {
      "text/html": [
       "<div>\n",
       "<style scoped>\n",
       "    .dataframe tbody tr th:only-of-type {\n",
       "        vertical-align: middle;\n",
       "    }\n",
       "\n",
       "    .dataframe tbody tr th {\n",
       "        vertical-align: top;\n",
       "    }\n",
       "\n",
       "    .dataframe thead th {\n",
       "        text-align: right;\n",
       "    }\n",
       "</style>\n",
       "<table border=\"1\" class=\"dataframe\">\n",
       "  <thead>\n",
       "    <tr style=\"text-align: right;\">\n",
       "      <th></th>\n",
       "      <th>split</th>\n",
       "      <th>guess-mean</th>\n",
       "      <th>guess-median</th>\n",
       "      <th>linear regr (2 feats)</th>\n",
       "      <th>linear regr (8 feats)</th>\n",
       "      <th>k-NN(8 feats)</th>\n",
       "    </tr>\n",
       "  </thead>\n",
       "  <tbody>\n",
       "    <tr>\n",
       "      <th>0</th>\n",
       "      <td>train</td>\n",
       "      <td>10.274478</td>\n",
       "      <td>11.088791</td>\n",
       "      <td>6.496134</td>\n",
       "      <td>5.053198</td>\n",
       "      <td>3.465919</td>\n",
       "    </tr>\n",
       "    <tr>\n",
       "      <th>1</th>\n",
       "      <td>valid</td>\n",
       "      <td>10.933100</td>\n",
       "      <td>10.934000</td>\n",
       "      <td>6.534072</td>\n",
       "      <td>5.206491</td>\n",
       "      <td>5.065840</td>\n",
       "    </tr>\n",
       "    <tr>\n",
       "      <th>2</th>\n",
       "      <td>test</td>\n",
       "      <td>10.549324</td>\n",
       "      <td>10.550000</td>\n",
       "      <td>6.739824</td>\n",
       "      <td>4.573249</td>\n",
       "      <td>5.165440</td>\n",
       "    </tr>\n",
       "  </tbody>\n",
       "</table>\n",
       "</div>"
      ],
      "text/plain": [
       "   split  guess-mean  guess-median  linear regr (2 feats)  \\\n",
       "0  train   10.274478     11.088791               6.496134   \n",
       "1  valid   10.933100     10.934000               6.534072   \n",
       "2   test   10.549324     10.550000               6.739824   \n",
       "\n",
       "   linear regr (8 feats)  k-NN(8 feats)  \n",
       "0               5.053198       3.465919  \n",
       "1               5.206491       5.065840  \n",
       "2               4.573249       5.165440  "
      ]
     },
     "execution_count": 20,
     "metadata": {},
     "output_type": "execute_result"
    }
   ],
   "source": [
    "results"
   ]
  },
  {
   "cell_type": "markdown",
   "metadata": {},
   "source": [
    "## Analyzing Residuals"
   ]
  },
  {
   "cell_type": "code",
   "execution_count": 21,
   "metadata": {},
   "outputs": [
    {
     "data": {
      "text/html": [
       "<div>\n",
       "<style scoped>\n",
       "    .dataframe tbody tr th:only-of-type {\n",
       "        vertical-align: middle;\n",
       "    }\n",
       "\n",
       "    .dataframe tbody tr th {\n",
       "        vertical-align: top;\n",
       "    }\n",
       "\n",
       "    .dataframe thead th {\n",
       "        text-align: right;\n",
       "    }\n",
       "</style>\n",
       "<table border=\"1\" class=\"dataframe\">\n",
       "  <thead>\n",
       "    <tr style=\"text-align: right;\">\n",
       "      <th></th>\n",
       "      <th>rings</th>\n",
       "    </tr>\n",
       "  </thead>\n",
       "  <tbody>\n",
       "    <tr>\n",
       "      <th>0</th>\n",
       "      <td>-0.687306</td>\n",
       "    </tr>\n",
       "    <tr>\n",
       "      <th>1</th>\n",
       "      <td>-1.044451</td>\n",
       "    </tr>\n",
       "    <tr>\n",
       "      <th>2</th>\n",
       "      <td>-7.021463</td>\n",
       "    </tr>\n",
       "    <tr>\n",
       "      <th>3</th>\n",
       "      <td>1.881374</td>\n",
       "    </tr>\n",
       "    <tr>\n",
       "      <th>4</th>\n",
       "      <td>-6.397223</td>\n",
       "    </tr>\n",
       "  </tbody>\n",
       "</table>\n",
       "</div>"
      ],
      "text/plain": [
       "      rings\n",
       "0 -0.687306\n",
       "1 -1.044451\n",
       "2 -7.021463\n",
       "3  1.881374\n",
       "4 -6.397223"
      ]
     },
     "execution_count": 21,
     "metadata": {},
     "output_type": "execute_result"
    }
   ],
   "source": [
    "# compute the residuals for linear regr\n",
    "lin_reg_8f_test = linear_regressor_8feats.predict(x_test)\n",
    "residuals = lin_reg_8f_test - y_test\n",
    "residuals.head()"
   ]
  },
  {
   "cell_type": "code",
   "execution_count": 22,
   "metadata": {},
   "outputs": [
    {
     "data": {
      "text/html": [
       "<div>\n",
       "<style scoped>\n",
       "    .dataframe tbody tr th:only-of-type {\n",
       "        vertical-align: middle;\n",
       "    }\n",
       "\n",
       "    .dataframe tbody tr th {\n",
       "        vertical-align: top;\n",
       "    }\n",
       "\n",
       "    .dataframe thead th {\n",
       "        text-align: right;\n",
       "    }\n",
       "</style>\n",
       "<table border=\"1\" class=\"dataframe\">\n",
       "  <thead>\n",
       "    <tr style=\"text-align: right;\">\n",
       "      <th></th>\n",
       "      <th>rings</th>\n",
       "    </tr>\n",
       "  </thead>\n",
       "  <tbody>\n",
       "    <tr>\n",
       "      <th>0</th>\n",
       "      <td>-2.0</td>\n",
       "    </tr>\n",
       "    <tr>\n",
       "      <th>1</th>\n",
       "      <td>1.0</td>\n",
       "    </tr>\n",
       "    <tr>\n",
       "      <th>2</th>\n",
       "      <td>-5.4</td>\n",
       "    </tr>\n",
       "    <tr>\n",
       "      <th>3</th>\n",
       "      <td>0.8</td>\n",
       "    </tr>\n",
       "    <tr>\n",
       "      <th>4</th>\n",
       "      <td>-3.4</td>\n",
       "    </tr>\n",
       "  </tbody>\n",
       "</table>\n",
       "</div>"
      ],
      "text/plain": [
       "   rings\n",
       "0   -2.0\n",
       "1    1.0\n",
       "2   -5.4\n",
       "3    0.8\n",
       "4   -3.4"
      ]
     },
     "execution_count": 22,
     "metadata": {},
     "output_type": "execute_result"
    }
   ],
   "source": [
    "# compute the residuals for K-NN with K=5\n",
    "model = neighbors.KNeighborsRegressor(n_neighbors = 5)\n",
    "model.fit(x_train, y_train)  #fit the model\n",
    "pred_test = model.predict(x_test) #make prediction on test set\n",
    "residuals = pred_test - y_test\n",
    "residuals.head()"
   ]
  },
  {
   "cell_type": "markdown",
   "metadata": {},
   "source": [
    "## Scatter Plots of y vs yhat for Linear Regression and the best K-NN Regressor"
   ]
  },
  {
   "cell_type": "code",
   "execution_count": 23,
   "metadata": {},
   "outputs": [
    {
     "data": {
      "image/png": "[encoded data removed]",
      "text/plain": [
       "<Figure size 432x288 with 2 Axes>"
      ]
     },
     "metadata": {
      "needs_background": "light"
     },
     "output_type": "display_data"
    }
   ],
   "source": [
    "fig_h, ax_grid = plt.subplots(nrows=1, ncols=2, sharex=True, sharey=True)\n",
    "plt.xlim([0, 26])\n",
    "plt.ylim([0, 26])\n",
    "\n",
    "ax_grid[0].plot(y_test, lin_reg_8f_test, 'k.', alpha=0.2);\n",
    "ax_grid[0].set_title('Linear Regr.')\n",
    "plt.xlabel('true y')\n",
    "plt.ylabel('predicted y')\n",
    "\n",
    "ax_grid[1].plot(y_test, pred_test, 'k.', alpha=0.2);\n",
    "plt.title('k-NN Regr.')\n",
    "plt.xlabel('true y')\n",
    "plt.ylabel('predicted y')\n",
    "plt.show()"
   ]
  },
  {
   "cell_type": "markdown",
   "metadata": {},
   "source": [
    "# Part II - Analysis of DoctorVisits dataset"
   ]
  },
  {
   "cell_type": "markdown",
   "metadata": {},
   "source": [
    "## Load Dataset"
   ]
  },
  {
   "cell_type": "code",
   "execution_count": 24,
   "metadata": {},
   "outputs": [],
   "source": [
    "x_train = pd.read_csv('data_doctorvisits/x_train.csv')\n",
    "#x_train.head()\n",
    "y_train = pd.read_csv('data_doctorvisits/y_train.csv')\n",
    "#y_train.head()\n",
    "x_valid = pd.read_csv('data_doctorvisits/x_valid.csv')\n",
    "#x_valid.head()\n",
    "y_valid = pd.read_csv('data_doctorvisits/y_valid.csv')\n",
    "#y_valid.head()\n",
    "x_test = pd.read_csv('data_doctorvisits/x_test.csv')\n",
    "#x_test.head()\n",
    "y_test = pd.read_csv('data_doctorvisits/y_test.csv')\n",
    "#y_test.head()"
   ]
  },
  {
   "cell_type": "code",
   "execution_count": 25,
   "metadata": {},
   "outputs": [
    {
     "data": {
      "text/html": [
       "<div>\n",
       "<style scoped>\n",
       "    .dataframe tbody tr th:only-of-type {\n",
       "        vertical-align: middle;\n",
       "    }\n",
       "\n",
       "    .dataframe tbody tr th {\n",
       "        vertical-align: top;\n",
       "    }\n",
       "\n",
       "    .dataframe thead th {\n",
       "        text-align: right;\n",
       "    }\n",
       "</style>\n",
       "<table border=\"1\" class=\"dataframe\">\n",
       "  <thead>\n",
       "    <tr style=\"text-align: right;\">\n",
       "      <th></th>\n",
       "      <th>age_in_decades</th>\n",
       "      <th>health_excellent</th>\n",
       "      <th>health_poor</th>\n",
       "      <th>n_chronic_cond</th>\n",
       "      <th>n_years_schooling</th>\n",
       "      <th>income_in_10k_dollars</th>\n",
       "      <th>limited_daily_activity</th>\n",
       "      <th>employed</th>\n",
       "      <th>has_private_insurance</th>\n",
       "      <th>has_medicaid</th>\n",
       "    </tr>\n",
       "  </thead>\n",
       "  <tbody>\n",
       "    <tr>\n",
       "      <th>0</th>\n",
       "      <td>7.1</td>\n",
       "      <td>0.0</td>\n",
       "      <td>0.0</td>\n",
       "      <td>0</td>\n",
       "      <td>8</td>\n",
       "      <td>1.3562</td>\n",
       "      <td>0</td>\n",
       "      <td>0.0</td>\n",
       "      <td>1.0</td>\n",
       "      <td>0.0</td>\n",
       "    </tr>\n",
       "    <tr>\n",
       "      <th>1</th>\n",
       "      <td>7.4</td>\n",
       "      <td>0.0</td>\n",
       "      <td>0.0</td>\n",
       "      <td>1</td>\n",
       "      <td>11</td>\n",
       "      <td>2.0113</td>\n",
       "      <td>0</td>\n",
       "      <td>0.0</td>\n",
       "      <td>1.0</td>\n",
       "      <td>0.0</td>\n",
       "    </tr>\n",
       "    <tr>\n",
       "      <th>2</th>\n",
       "      <td>8.4</td>\n",
       "      <td>0.0</td>\n",
       "      <td>0.0</td>\n",
       "      <td>3</td>\n",
       "      <td>12</td>\n",
       "      <td>0.6520</td>\n",
       "      <td>0</td>\n",
       "      <td>0.0</td>\n",
       "      <td>1.0</td>\n",
       "      <td>0.0</td>\n",
       "    </tr>\n",
       "    <tr>\n",
       "      <th>3</th>\n",
       "      <td>7.9</td>\n",
       "      <td>0.0</td>\n",
       "      <td>0.0</td>\n",
       "      <td>1</td>\n",
       "      <td>7</td>\n",
       "      <td>2.9652</td>\n",
       "      <td>1</td>\n",
       "      <td>0.0</td>\n",
       "      <td>0.0</td>\n",
       "      <td>1.0</td>\n",
       "    </tr>\n",
       "    <tr>\n",
       "      <th>4</th>\n",
       "      <td>6.7</td>\n",
       "      <td>0.0</td>\n",
       "      <td>0.0</td>\n",
       "      <td>0</td>\n",
       "      <td>8</td>\n",
       "      <td>0.9778</td>\n",
       "      <td>0</td>\n",
       "      <td>0.0</td>\n",
       "      <td>1.0</td>\n",
       "      <td>0.0</td>\n",
       "    </tr>\n",
       "  </tbody>\n",
       "</table>\n",
       "</div>"
      ],
      "text/plain": [
       "   age_in_decades  health_excellent  health_poor  n_chronic_cond  \\\n",
       "0             7.1               0.0          0.0               0   \n",
       "1             7.4               0.0          0.0               1   \n",
       "2             8.4               0.0          0.0               3   \n",
       "3             7.9               0.0          0.0               1   \n",
       "4             6.7               0.0          0.0               0   \n",
       "\n",
       "   n_years_schooling  income_in_10k_dollars  limited_daily_activity  employed  \\\n",
       "0                  8                 1.3562                       0       0.0   \n",
       "1                 11                 2.0113                       0       0.0   \n",
       "2                 12                 0.6520                       0       0.0   \n",
       "3                  7                 2.9652                       1       0.0   \n",
       "4                  8                 0.9778                       0       0.0   \n",
       "\n",
       "   has_private_insurance  has_medicaid  \n",
       "0                    1.0           0.0  \n",
       "1                    1.0           0.0  \n",
       "2                    1.0           0.0  \n",
       "3                    0.0           1.0  \n",
       "4                    1.0           0.0  "
      ]
     },
     "execution_count": 25,
     "metadata": {},
     "output_type": "execute_result"
    }
   ],
   "source": [
    "x_train.head()"
   ]
  },
  {
   "cell_type": "code",
   "execution_count": 26,
   "metadata": {
    "scrolled": true
   },
   "outputs": [
    {
     "data": {
      "text/html": [
       "<div>\n",
       "<style scoped>\n",
       "    .dataframe tbody tr th:only-of-type {\n",
       "        vertical-align: middle;\n",
       "    }\n",
       "\n",
       "    .dataframe tbody tr th {\n",
       "        vertical-align: top;\n",
       "    }\n",
       "\n",
       "    .dataframe thead th {\n",
       "        text-align: right;\n",
       "    }\n",
       "</style>\n",
       "<table border=\"1\" class=\"dataframe\">\n",
       "  <thead>\n",
       "    <tr style=\"text-align: right;\">\n",
       "      <th></th>\n",
       "      <th>doctor_visits_per_year</th>\n",
       "    </tr>\n",
       "  </thead>\n",
       "  <tbody>\n",
       "    <tr>\n",
       "      <th>0</th>\n",
       "      <td>0</td>\n",
       "    </tr>\n",
       "    <tr>\n",
       "      <th>1</th>\n",
       "      <td>7</td>\n",
       "    </tr>\n",
       "    <tr>\n",
       "      <th>2</th>\n",
       "      <td>7</td>\n",
       "    </tr>\n",
       "    <tr>\n",
       "      <th>3</th>\n",
       "      <td>0</td>\n",
       "    </tr>\n",
       "    <tr>\n",
       "      <th>4</th>\n",
       "      <td>3</td>\n",
       "    </tr>\n",
       "  </tbody>\n",
       "</table>\n",
       "</div>"
      ],
      "text/plain": [
       "   doctor_visits_per_year\n",
       "0                       0\n",
       "1                       7\n",
       "2                       7\n",
       "3                       0\n",
       "4                       3"
      ]
     },
     "execution_count": 26,
     "metadata": {},
     "output_type": "execute_result"
    }
   ],
   "source": [
    "y_train.head()"
   ]
  },
  {
   "cell_type": "markdown",
   "metadata": {},
   "source": [
    "## Descriptive Statistics"
   ]
  },
  {
   "cell_type": "code",
   "execution_count": 27,
   "metadata": {},
   "outputs": [
    {
     "data": {
      "text/html": [
       "<div>\n",
       "<style scoped>\n",
       "    .dataframe tbody tr th:only-of-type {\n",
       "        vertical-align: middle;\n",
       "    }\n",
       "\n",
       "    .dataframe tbody tr th {\n",
       "        vertical-align: top;\n",
       "    }\n",
       "\n",
       "    .dataframe thead th {\n",
       "        text-align: right;\n",
       "    }\n",
       "</style>\n",
       "<table border=\"1\" class=\"dataframe\">\n",
       "  <thead>\n",
       "    <tr style=\"text-align: right;\">\n",
       "      <th></th>\n",
       "      <th>age_in_decades</th>\n",
       "      <th>health_excellent</th>\n",
       "      <th>health_poor</th>\n",
       "      <th>n_chronic_cond</th>\n",
       "      <th>n_years_schooling</th>\n",
       "      <th>income_in_10k_dollars</th>\n",
       "      <th>limited_daily_activity</th>\n",
       "      <th>employed</th>\n",
       "      <th>has_private_insurance</th>\n",
       "      <th>has_medicaid</th>\n",
       "    </tr>\n",
       "  </thead>\n",
       "  <tbody>\n",
       "    <tr>\n",
       "      <th>count</th>\n",
       "      <td>3406.000000</td>\n",
       "      <td>3406.000000</td>\n",
       "      <td>3406.000000</td>\n",
       "      <td>3406.000000</td>\n",
       "      <td>3406.000000</td>\n",
       "      <td>3406.000000</td>\n",
       "      <td>3406.000000</td>\n",
       "      <td>3406.000000</td>\n",
       "      <td>3406.000000</td>\n",
       "      <td>3406.000000</td>\n",
       "    </tr>\n",
       "    <tr>\n",
       "      <th>mean</th>\n",
       "      <td>7.399883</td>\n",
       "      <td>0.078391</td>\n",
       "      <td>0.124193</td>\n",
       "      <td>1.554316</td>\n",
       "      <td>10.322079</td>\n",
       "      <td>2.564660</td>\n",
       "      <td>0.196418</td>\n",
       "      <td>0.107751</td>\n",
       "      <td>0.774222</td>\n",
       "      <td>0.089841</td>\n",
       "    </tr>\n",
       "    <tr>\n",
       "      <th>std</th>\n",
       "      <td>0.636321</td>\n",
       "      <td>0.268825</td>\n",
       "      <td>0.329850</td>\n",
       "      <td>1.368778</td>\n",
       "      <td>3.718260</td>\n",
       "      <td>3.059403</td>\n",
       "      <td>0.397347</td>\n",
       "      <td>0.310111</td>\n",
       "      <td>0.418155</td>\n",
       "      <td>0.285996</td>\n",
       "    </tr>\n",
       "    <tr>\n",
       "      <th>min</th>\n",
       "      <td>6.600000</td>\n",
       "      <td>0.000000</td>\n",
       "      <td>0.000000</td>\n",
       "      <td>0.000000</td>\n",
       "      <td>0.000000</td>\n",
       "      <td>-1.012500</td>\n",
       "      <td>0.000000</td>\n",
       "      <td>0.000000</td>\n",
       "      <td>0.000000</td>\n",
       "      <td>0.000000</td>\n",
       "    </tr>\n",
       "    <tr>\n",
       "      <th>25%</th>\n",
       "      <td>6.900000</td>\n",
       "      <td>0.000000</td>\n",
       "      <td>0.000000</td>\n",
       "      <td>1.000000</td>\n",
       "      <td>8.000000</td>\n",
       "      <td>0.913725</td>\n",
       "      <td>0.000000</td>\n",
       "      <td>0.000000</td>\n",
       "      <td>1.000000</td>\n",
       "      <td>0.000000</td>\n",
       "    </tr>\n",
       "    <tr>\n",
       "      <th>50%</th>\n",
       "      <td>7.300000</td>\n",
       "      <td>0.000000</td>\n",
       "      <td>0.000000</td>\n",
       "      <td>1.000000</td>\n",
       "      <td>11.000000</td>\n",
       "      <td>1.700650</td>\n",
       "      <td>0.000000</td>\n",
       "      <td>0.000000</td>\n",
       "      <td>1.000000</td>\n",
       "      <td>0.000000</td>\n",
       "    </tr>\n",
       "    <tr>\n",
       "      <th>75%</th>\n",
       "      <td>7.800000</td>\n",
       "      <td>0.000000</td>\n",
       "      <td>0.000000</td>\n",
       "      <td>2.000000</td>\n",
       "      <td>12.000000</td>\n",
       "      <td>3.188450</td>\n",
       "      <td>0.000000</td>\n",
       "      <td>0.000000</td>\n",
       "      <td>1.000000</td>\n",
       "      <td>0.000000</td>\n",
       "    </tr>\n",
       "    <tr>\n",
       "      <th>max</th>\n",
       "      <td>10.900000</td>\n",
       "      <td>1.000000</td>\n",
       "      <td>1.000000</td>\n",
       "      <td>8.000000</td>\n",
       "      <td>18.000000</td>\n",
       "      <td>54.835100</td>\n",
       "      <td>1.000000</td>\n",
       "      <td>1.000000</td>\n",
       "      <td>1.000000</td>\n",
       "      <td>1.000000</td>\n",
       "    </tr>\n",
       "  </tbody>\n",
       "</table>\n",
       "</div>"
      ],
      "text/plain": [
       "       age_in_decades  health_excellent  health_poor  n_chronic_cond  \\\n",
       "count     3406.000000       3406.000000  3406.000000     3406.000000   \n",
       "mean         7.399883          0.078391     0.124193        1.554316   \n",
       "std          0.636321          0.268825     0.329850        1.368778   \n",
       "min          6.600000          0.000000     0.000000        0.000000   \n",
       "25%          6.900000          0.000000     0.000000        1.000000   \n",
       "50%          7.300000          0.000000     0.000000        1.000000   \n",
       "75%          7.800000          0.000000     0.000000        2.000000   \n",
       "max         10.900000          1.000000     1.000000        8.000000   \n",
       "\n",
       "       n_years_schooling  income_in_10k_dollars  limited_daily_activity  \\\n",
       "count        3406.000000            3406.000000             3406.000000   \n",
       "mean           10.322079               2.564660                0.196418   \n",
       "std             3.718260               3.059403                0.397347   \n",
       "min             0.000000              -1.012500                0.000000   \n",
       "25%             8.000000               0.913725                0.000000   \n",
       "50%            11.000000               1.700650                0.000000   \n",
       "75%            12.000000               3.188450                0.000000   \n",
       "max            18.000000              54.835100                1.000000   \n",
       "\n",
       "          employed  has_private_insurance  has_medicaid  \n",
       "count  3406.000000            3406.000000   3406.000000  \n",
       "mean      0.107751               0.774222      0.089841  \n",
       "std       0.310111               0.418155      0.285996  \n",
       "min       0.000000               0.000000      0.000000  \n",
       "25%       0.000000               1.000000      0.000000  \n",
       "50%       0.000000               1.000000      0.000000  \n",
       "75%       0.000000               1.000000      0.000000  \n",
       "max       1.000000               1.000000      1.000000  "
      ]
     },
     "execution_count": 27,
     "metadata": {},
     "output_type": "execute_result"
    }
   ],
   "source": [
    "x_train.describe()"
   ]
  },
  {
   "cell_type": "markdown",
   "metadata": {},
   "source": [
    "## Histogram of Number of Doctor Visits per year"
   ]
  },
  {
   "cell_type": "code",
   "execution_count": 28,
   "metadata": {},
   "outputs": [
    {
     "data": {
      "image/png": "[encoded data removed]",
      "text/plain": [
       "<Figure size 864x432 with 3 Axes>"
      ]
     },
     "metadata": {
      "needs_background": "light"
     },
     "output_type": "display_data"
    }
   ],
   "source": [
    "y1 = y_train.values\n",
    "y2 = y_valid.values\n",
    "y3 = y_test.values\n",
    "\n",
    "#Creates two subplots and unpacks the output array immediately\n",
    "f, (ax1, ax2, ax3) = plt.subplots(1, 3, sharey=True, figsize=(12,6))\n",
    "ax1.hist(y1,20)\n",
    "ax1.set_title('Y_train')\n",
    "ax2.hist(y2, bins=20)\n",
    "ax2.set_title('Y_valid')\n",
    "ax3.hist(y3, bins=20)\n",
    "ax3.set_title('Y_test')\n",
    "plt.show()"
   ]
  },
  {
   "cell_type": "markdown",
   "metadata": {},
   "source": [
    "## Scatter plots looking at number of visits vs age and number of conditions"
   ]
  },
  {
   "cell_type": "code",
   "execution_count": 29,
   "metadata": {},
   "outputs": [
    {
     "data": {
      "image/png": "[encoded data removed]",
      "text/plain": [
       "<Figure size 864x432 with 2 Axes>"
      ]
     },
     "metadata": {
      "needs_background": "light"
     },
     "output_type": "display_data"
    }
   ],
   "source": [
    "x_train_age = x_train.age_in_decades.values\n",
    "y_train_visits = y_train.values\n",
    "x_train_cond = x_train.n_chronic_cond.values\n",
    "\n",
    "#Creates two subplots and unpacks the output array immediately\n",
    "f, (ax1, ax2) = plt.subplots(1, 2, sharey=True, figsize=(12,6))\n",
    "ax1.scatter(x_train_age, y_train_visits)\n",
    "ax1.set_title('no of visits vs age')\n",
    "ax2.scatter(x_train_cond, y_train_visits)\n",
    "ax2.set_title('no of visits vs no of conditions')\n",
    "plt.show()"
   ]
  },
  {
   "cell_type": "markdown",
   "metadata": {},
   "source": [
    "## Baseline predictions using Mean and Median - calculate MSE"
   ]
  },
  {
   "cell_type": "code",
   "execution_count": 30,
   "metadata": {},
   "outputs": [
    {
     "data": {
      "text/html": [
       "<div>\n",
       "<style scoped>\n",
       "    .dataframe tbody tr th:only-of-type {\n",
       "        vertical-align: middle;\n",
       "    }\n",
       "\n",
       "    .dataframe tbody tr th {\n",
       "        vertical-align: top;\n",
       "    }\n",
       "\n",
       "    .dataframe thead th {\n",
       "        text-align: right;\n",
       "    }\n",
       "</style>\n",
       "<table border=\"1\" class=\"dataframe\">\n",
       "  <thead>\n",
       "    <tr style=\"text-align: right;\">\n",
       "      <th></th>\n",
       "      <th>split</th>\n",
       "      <th>guess-mean</th>\n",
       "      <th>guess-median</th>\n",
       "    </tr>\n",
       "  </thead>\n",
       "  <tbody>\n",
       "    <tr>\n",
       "      <th>0</th>\n",
       "      <td>train</td>\n",
       "      <td>15307.632413</td>\n",
       "      <td>14405.0</td>\n",
       "    </tr>\n",
       "    <tr>\n",
       "      <th>1</th>\n",
       "      <td>valid</td>\n",
       "      <td>2409.100000</td>\n",
       "      <td>2239.0</td>\n",
       "    </tr>\n",
       "    <tr>\n",
       "      <th>2</th>\n",
       "      <td>test</td>\n",
       "      <td>2214.736000</td>\n",
       "      <td>2076.0</td>\n",
       "    </tr>\n",
       "  </tbody>\n",
       "</table>\n",
       "</div>"
      ],
      "text/plain": [
       "   split    guess-mean  guess-median\n",
       "0  train  15307.632413       14405.0\n",
       "1  valid   2409.100000        2239.0\n",
       "2   test   2214.736000        2076.0"
      ]
     },
     "execution_count": 30,
     "metadata": {},
     "output_type": "execute_result"
    }
   ],
   "source": [
    "# Calculate MSE for Mean and Median Baseline Predictors\n",
    "\n",
    "## Training Set\n",
    "y_train_mean_mae = calc_perf_metric__absolute_error(y_train.mean(), y_train)\n",
    "y_train_median_mae = calc_perf_metric__absolute_error(y_train.median(), y_train)\n",
    "\n",
    "## Testing Set\n",
    "y_test_mean_mae = calc_perf_metric__absolute_error(y_test.mean(), y_test)\n",
    "y_test_median_mae = calc_perf_metric__absolute_error(y_test.median(), y_test)\n",
    "\n",
    "## Validation Set\n",
    "y_valid_mean_mae = calc_perf_metric__absolute_error(y_valid.mean(), y_valid)\n",
    "y_valid_median_mae = calc_perf_metric__absolute_error(y_valid.median(), y_valid)\n",
    "\n",
    "results = pd.DataFrame({'split':['train','valid','test'],\n",
    "                       'guess-mean':[y_train_mean_mae.doctor_visits_per_year, y_valid_mean_mae.doctor_visits_per_year, y_test_mean_mae.doctor_visits_per_year],\n",
    "                       'guess-median':[y_train_median_mae.doctor_visits_per_year, y_valid_median_mae.doctor_visits_per_year, y_test_median_mae.doctor_visits_per_year]\n",
    "                       })\n",
    "results"
   ]
  },
  {
   "cell_type": "markdown",
   "metadata": {},
   "source": [
    "## Fit Linear Regression with two features - calculate MSE"
   ]
  },
  {
   "cell_type": "code",
   "execution_count": 31,
   "metadata": {},
   "outputs": [
    {
     "data": {
      "text/html": [
       "<div>\n",
       "<style scoped>\n",
       "    .dataframe tbody tr th:only-of-type {\n",
       "        vertical-align: middle;\n",
       "    }\n",
       "\n",
       "    .dataframe tbody tr th {\n",
       "        vertical-align: top;\n",
       "    }\n",
       "\n",
       "    .dataframe thead th {\n",
       "        text-align: right;\n",
       "    }\n",
       "</style>\n",
       "<table border=\"1\" class=\"dataframe\">\n",
       "  <thead>\n",
       "    <tr style=\"text-align: right;\">\n",
       "      <th></th>\n",
       "      <th>split</th>\n",
       "      <th>guess-mean</th>\n",
       "      <th>guess-median</th>\n",
       "      <th>linear regr (2 feats)</th>\n",
       "    </tr>\n",
       "  </thead>\n",
       "  <tbody>\n",
       "    <tr>\n",
       "      <th>0</th>\n",
       "      <td>train</td>\n",
       "      <td>15307.632413</td>\n",
       "      <td>14405.0</td>\n",
       "      <td>14342.151252</td>\n",
       "    </tr>\n",
       "    <tr>\n",
       "      <th>1</th>\n",
       "      <td>valid</td>\n",
       "      <td>2409.100000</td>\n",
       "      <td>2239.0</td>\n",
       "      <td>2208.973708</td>\n",
       "    </tr>\n",
       "    <tr>\n",
       "      <th>2</th>\n",
       "      <td>test</td>\n",
       "      <td>2214.736000</td>\n",
       "      <td>2076.0</td>\n",
       "      <td>2077.917266</td>\n",
       "    </tr>\n",
       "  </tbody>\n",
       "</table>\n",
       "</div>"
      ],
      "text/plain": [
       "   split    guess-mean  guess-median  linear regr (2 feats)\n",
       "0  train  15307.632413       14405.0           14342.151252\n",
       "1  valid   2409.100000        2239.0            2208.973708\n",
       "2   test   2214.736000        2076.0            2077.917266"
      ]
     },
     "execution_count": 31,
     "metadata": {},
     "output_type": "execute_result"
    }
   ],
   "source": [
    "linear_regressor_2feats = LeastSquaresLinearRegressor()\n",
    "# fit and evaluate 2 features\n",
    "linear_regressor_2feats.fit(x_train[['age_in_decades','n_chronic_cond']],y_train)\n",
    "\n",
    "lin_reg_2f_train = linear_regressor_2feats.predict(x_train[['age_in_decades','n_chronic_cond']])\n",
    "mae_train_2f = calc_perf_metric__absolute_error(y_train, lin_reg_2f_train)\n",
    "\n",
    "lin_reg_2f_test = linear_regressor_2feats.predict(x_test[['age_in_decades','n_chronic_cond']])\n",
    "mae_test_2f = calc_perf_metric__absolute_error(y_test, lin_reg_2f_test)\n",
    "\n",
    "lin_reg_2f_valid = linear_regressor_2feats.predict(x_valid[['age_in_decades','n_chronic_cond']])\n",
    "mae_valid_2f = calc_perf_metric__absolute_error(y_valid, lin_reg_2f_valid)\n",
    "results['linear regr (2 feats)'] = [mae_train_2f.doctor_visits_per_year, mae_valid_2f.doctor_visits_per_year, mae_test_2f.doctor_visits_per_year]\n",
    "results"
   ]
  },
  {
   "cell_type": "markdown",
   "metadata": {},
   "source": [
    "## Fit Linear Regression with all features - calculate MSE"
   ]
  },
  {
   "cell_type": "code",
   "execution_count": 32,
   "metadata": {},
   "outputs": [
    {
     "data": {
      "text/html": [
       "<div>\n",
       "<style scoped>\n",
       "    .dataframe tbody tr th:only-of-type {\n",
       "        vertical-align: middle;\n",
       "    }\n",
       "\n",
       "    .dataframe tbody tr th {\n",
       "        vertical-align: top;\n",
       "    }\n",
       "\n",
       "    .dataframe thead th {\n",
       "        text-align: right;\n",
       "    }\n",
       "</style>\n",
       "<table border=\"1\" class=\"dataframe\">\n",
       "  <thead>\n",
       "    <tr style=\"text-align: right;\">\n",
       "      <th></th>\n",
       "      <th>split</th>\n",
       "      <th>guess-mean</th>\n",
       "      <th>guess-median</th>\n",
       "      <th>linear regr (2 feats)</th>\n",
       "      <th>linear regr (10 feats)</th>\n",
       "    </tr>\n",
       "  </thead>\n",
       "  <tbody>\n",
       "    <tr>\n",
       "      <th>0</th>\n",
       "      <td>train</td>\n",
       "      <td>15307.632413</td>\n",
       "      <td>14405.0</td>\n",
       "      <td>14342.151252</td>\n",
       "      <td>14039.964903</td>\n",
       "    </tr>\n",
       "    <tr>\n",
       "      <th>1</th>\n",
       "      <td>valid</td>\n",
       "      <td>2409.100000</td>\n",
       "      <td>2239.0</td>\n",
       "      <td>2208.973708</td>\n",
       "      <td>2149.370325</td>\n",
       "    </tr>\n",
       "    <tr>\n",
       "      <th>2</th>\n",
       "      <td>test</td>\n",
       "      <td>2214.736000</td>\n",
       "      <td>2076.0</td>\n",
       "      <td>2077.917266</td>\n",
       "      <td>2044.284160</td>\n",
       "    </tr>\n",
       "  </tbody>\n",
       "</table>\n",
       "</div>"
      ],
      "text/plain": [
       "   split    guess-mean  guess-median  linear regr (2 feats)  \\\n",
       "0  train  15307.632413       14405.0           14342.151252   \n",
       "1  valid   2409.100000        2239.0            2208.973708   \n",
       "2   test   2214.736000        2076.0            2077.917266   \n",
       "\n",
       "   linear regr (10 feats)  \n",
       "0            14039.964903  \n",
       "1             2149.370325  \n",
       "2             2044.284160  "
      ]
     },
     "execution_count": 32,
     "metadata": {},
     "output_type": "execute_result"
    }
   ],
   "source": [
    "linear_regressor_10feats = LeastSquaresLinearRegressor()\n",
    "# fit and evaluate 10 features\n",
    "linear_regressor_10feats.fit(x_train, y_train)\n",
    "\n",
    "lin_reg_10f_train = linear_regressor_10feats.predict(x_train)\n",
    "mae_train_10f = calc_perf_metric__absolute_error(y_train, lin_reg_10f_train)\n",
    "\n",
    "lin_reg_10f_test = linear_regressor_10feats.predict(x_test)\n",
    "mae_test_10f = calc_perf_metric__absolute_error(y_test, lin_reg_10f_test)\n",
    "\n",
    "lin_reg_10f_valid = linear_regressor_10feats.predict(x_valid)\n",
    "mae_valid_10f = calc_perf_metric__absolute_error(y_valid, lin_reg_10f_valid)\n",
    "results['linear regr (10 feats)'] = [mae_train_10f.doctor_visits_per_year, mae_valid_10f.doctor_visits_per_year, mae_test_10f.doctor_visits_per_year]\n",
    "results"
   ]
  },
  {
   "cell_type": "markdown",
   "metadata": {},
   "source": [
    "## Train a DecisionTreeRegressor "
   ]
  },
  {
   "cell_type": "code",
   "execution_count": 33,
   "metadata": {},
   "outputs": [],
   "source": [
    "# Use the DecisionTreeRegressor class provided by sklearn.\n",
    "\n",
    "# Try various values for parameter min_samples_leaf \n",
    "# min_sample_leaf = [1, 2, 3, 4, 5, 10, 20, 50, 100, 200, 500, 1000, N]"
   ]
  },
  {
   "cell_type": "code",
   "execution_count": 34,
   "metadata": {},
   "outputs": [],
   "source": [
    "min_samples_leaf = [1, 2, 3, 4, 5, 10, 20, 50, 100, 200, 500, 1000, 3406]\n",
    "train_mae = []\n",
    "valid_mae = []\n",
    "test_mae = []\n",
    "for M in min_samples_leaf:\n",
    "    model = DecisionTreeRegressor(min_samples_leaf=M, random_state=42)\n",
    "    model.fit(x_train, y_train)  #fit the model\n",
    "    pred_train = model.predict(x_train) #make prediction on train set\n",
    "    pred_test = model.predict(x_test) #make prediction on test set\n",
    "    pred_valid = model.predict(x_valid) #make prediction on validation set\n",
    "    error_train = mean_absolute_error(y_train, pred_train) #calculate mae for train set\n",
    "    error_test = mean_absolute_error(y_test, pred_test) #calculate mae for test set\n",
    "    error_validation = mean_absolute_error(y_valid, pred_valid) #calculate mae for validation set\n",
    "    train_mae.append(error_train)\n",
    "    test_mae.append(error_test) #store mae values\n",
    "    valid_mae.append(error_validation)"
   ]
  },
  {
   "cell_type": "markdown",
   "metadata": {},
   "source": [
    "### Line plot of mean absolute error(MAE) vs min_samples_leaf"
   ]
  },
  {
   "cell_type": "code",
   "execution_count": 35,
   "metadata": {},
   "outputs": [
    {
     "data": {
      "image/png": "[encoded data removed]",
      "text/plain": [
       "<Figure size 432x288 with 1 Axes>"
      ]
     },
     "metadata": {
      "needs_background": "light"
     },
     "output_type": "display_data"
    },
    {
     "data": {
      "image/png": "[encoded data removed]",
      "text/plain": [
       "<Figure size 432x288 with 1 Axes>"
      ]
     },
     "metadata": {
      "needs_background": "light"
     },
     "output_type": "display_data"
    }
   ],
   "source": [
    "#plotting the mse values against k values\n",
    "curve = pd.DataFrame(test_mae) #elbow curve \n",
    "curve.plot(title='MAE vs Min Sample Leaf', legend=False, style='rs-')\n",
    "curve = pd.DataFrame(train_mae)\n",
    "curve.plot(legend=False, style='rs:')\n",
    "plt.show()"
   ]
  },
  {
   "cell_type": "markdown",
   "metadata": {},
   "source": [
    "### Mean Absolute Error"
   ]
  },
  {
   "cell_type": "code",
   "execution_count": 36,
   "metadata": {},
   "outputs": [
    {
     "data": {
      "text/html": [
       "<div>\n",
       "<style scoped>\n",
       "    .dataframe tbody tr th:only-of-type {\n",
       "        vertical-align: middle;\n",
       "    }\n",
       "\n",
       "    .dataframe tbody tr th {\n",
       "        vertical-align: top;\n",
       "    }\n",
       "\n",
       "    .dataframe thead th {\n",
       "        text-align: right;\n",
       "    }\n",
       "</style>\n",
       "<table border=\"1\" class=\"dataframe\">\n",
       "  <thead>\n",
       "    <tr style=\"text-align: right;\">\n",
       "      <th></th>\n",
       "      <th>split</th>\n",
       "      <th>guess-mean</th>\n",
       "      <th>guess-median</th>\n",
       "      <th>linear regr (2 feats)</th>\n",
       "      <th>linear regr (10 feats)</th>\n",
       "      <th>decision tree (MSE)</th>\n",
       "    </tr>\n",
       "  </thead>\n",
       "  <tbody>\n",
       "    <tr>\n",
       "      <th>0</th>\n",
       "      <td>train</td>\n",
       "      <td>15307.632413</td>\n",
       "      <td>14405.0</td>\n",
       "      <td>14342.151252</td>\n",
       "      <td>14039.964903</td>\n",
       "      <td>3.721906</td>\n",
       "    </tr>\n",
       "    <tr>\n",
       "      <th>1</th>\n",
       "      <td>valid</td>\n",
       "      <td>2409.100000</td>\n",
       "      <td>2239.0</td>\n",
       "      <td>2208.973708</td>\n",
       "      <td>2149.370325</td>\n",
       "      <td>4.853776</td>\n",
       "    </tr>\n",
       "    <tr>\n",
       "      <th>2</th>\n",
       "      <td>test</td>\n",
       "      <td>2214.736000</td>\n",
       "      <td>2076.0</td>\n",
       "      <td>2077.917266</td>\n",
       "      <td>2044.284160</td>\n",
       "      <td>4.353488</td>\n",
       "    </tr>\n",
       "  </tbody>\n",
       "</table>\n",
       "</div>"
      ],
      "text/plain": [
       "   split    guess-mean  guess-median  linear regr (2 feats)  \\\n",
       "0  train  15307.632413       14405.0           14342.151252   \n",
       "1  valid   2409.100000        2239.0            2208.973708   \n",
       "2   test   2214.736000        2076.0            2077.917266   \n",
       "\n",
       "   linear regr (10 feats)  decision tree (MSE)  \n",
       "0            14039.964903             3.721906  \n",
       "1             2149.370325             4.853776  \n",
       "2             2044.284160             4.353488  "
      ]
     },
     "execution_count": 36,
     "metadata": {},
     "output_type": "execute_result"
    }
   ],
   "source": [
    "M=10 # best K-NN regressor\n",
    "results['decision tree (MSE)'] = [train_mae[5], valid_mae[5], test_mae[5]]\n",
    "results"
   ]
  },
  {
   "cell_type": "markdown",
   "metadata": {},
   "source": [
    "## DecisionTreeRegressor with MAE Training Criterion"
   ]
  },
  {
   "cell_type": "code",
   "execution_count": 37,
   "metadata": {},
   "outputs": [],
   "source": [
    "min_samples_leaf = [1, 2, 3, 4, 5, 10, 20, 50, 100, 200, 500, 1000, 3406]\n",
    "train_mae = []\n",
    "valid_mae = []\n",
    "test_mae = []\n",
    "for M in min_samples_leaf:\n",
    "    model = DecisionTreeRegressor(criterion='mae', min_samples_leaf=M, random_state=42)\n",
    "    model.fit(x_train, y_train)  #fit the model\n",
    "    pred_train = model.predict(x_train) #make prediction on train set\n",
    "    pred_test = model.predict(x_test) #make prediction on test set\n",
    "    pred_valid = model.predict(x_valid) #make prediction on validation set\n",
    "    error_train = mean_absolute_error(y_train, pred_train) #calculate mae for train set\n",
    "    error_test = mean_absolute_error(y_test, pred_test) #calculate mae for test set\n",
    "    error_validation = mean_absolute_error(y_valid, pred_valid) #calculate mae for validation set\n",
    "    train_mae.append(error_train)\n",
    "    test_mae.append(error_test) #store mae values\n",
    "    valid_mae.append(error_validation)"
   ]
  },
  {
   "cell_type": "markdown",
   "metadata": {},
   "source": [
    "### Line plot of mean absolute error vs min_samples_leaf"
   ]
  },
  {
   "cell_type": "code",
   "execution_count": 38,
   "metadata": {},
   "outputs": [
    {
     "data": {
      "image/png": "[encoded data removed]",
      "text/plain": [
       "<Figure size 432x288 with 1 Axes>"
      ]
     },
     "metadata": {
      "needs_background": "light"
     },
     "output_type": "display_data"
    },
    {
     "data": {
      "image/png": "[encoded data removed]",
      "text/plain": [
       "<Figure size 432x288 with 1 Axes>"
      ]
     },
     "metadata": {
      "needs_background": "light"
     },
     "output_type": "display_data"
    }
   ],
   "source": [
    "# plotting the mae values against k values\n",
    "curve = pd.DataFrame(test_mae) #elbow curve \n",
    "curve.plot(title='MAE vs Min Sample Leaf', legend=False, style='rs-')\n",
    "curve = pd.DataFrame(train_mae)\n",
    "curve.plot(legend=False, style='rs:')\n",
    "plt.show()"
   ]
  },
  {
   "cell_type": "markdown",
   "metadata": {},
   "source": [
    "### Mean Absolute Error"
   ]
  },
  {
   "cell_type": "code",
   "execution_count": 39,
   "metadata": {},
   "outputs": [
    {
     "data": {
      "text/html": [
       "<div>\n",
       "<style scoped>\n",
       "    .dataframe tbody tr th:only-of-type {\n",
       "        vertical-align: middle;\n",
       "    }\n",
       "\n",
       "    .dataframe tbody tr th {\n",
       "        vertical-align: top;\n",
       "    }\n",
       "\n",
       "    .dataframe thead th {\n",
       "        text-align: right;\n",
       "    }\n",
       "</style>\n",
       "<table border=\"1\" class=\"dataframe\">\n",
       "  <thead>\n",
       "    <tr style=\"text-align: right;\">\n",
       "      <th></th>\n",
       "      <th>split</th>\n",
       "      <th>guess-mean</th>\n",
       "      <th>guess-median</th>\n",
       "      <th>linear regr (2 feats)</th>\n",
       "      <th>linear regr (10 feats)</th>\n",
       "      <th>decision tree (MSE)</th>\n",
       "      <th>decision tree (MAE)</th>\n",
       "    </tr>\n",
       "  </thead>\n",
       "  <tbody>\n",
       "    <tr>\n",
       "      <th>0</th>\n",
       "      <td>train</td>\n",
       "      <td>15307.632413</td>\n",
       "      <td>14405.0</td>\n",
       "      <td>14342.151252</td>\n",
       "      <td>14039.964903</td>\n",
       "      <td>3.721906</td>\n",
       "      <td>3.401644</td>\n",
       "    </tr>\n",
       "    <tr>\n",
       "      <th>1</th>\n",
       "      <td>valid</td>\n",
       "      <td>2409.100000</td>\n",
       "      <td>2239.0</td>\n",
       "      <td>2208.973708</td>\n",
       "      <td>2149.370325</td>\n",
       "      <td>4.853776</td>\n",
       "      <td>4.601000</td>\n",
       "    </tr>\n",
       "    <tr>\n",
       "      <th>2</th>\n",
       "      <td>test</td>\n",
       "      <td>2214.736000</td>\n",
       "      <td>2076.0</td>\n",
       "      <td>2077.917266</td>\n",
       "      <td>2044.284160</td>\n",
       "      <td>4.353488</td>\n",
       "      <td>4.273000</td>\n",
       "    </tr>\n",
       "  </tbody>\n",
       "</table>\n",
       "</div>"
      ],
      "text/plain": [
       "   split    guess-mean  guess-median  linear regr (2 feats)  \\\n",
       "0  train  15307.632413       14405.0           14342.151252   \n",
       "1  valid   2409.100000        2239.0            2208.973708   \n",
       "2   test   2214.736000        2076.0            2077.917266   \n",
       "\n",
       "   linear regr (10 feats)  decision tree (MSE)  decision tree (MAE)  \n",
       "0            14039.964903             3.721906             3.401644  \n",
       "1             2149.370325             4.853776             4.601000  \n",
       "2             2044.284160             4.353488             4.273000  "
      ]
     },
     "execution_count": 39,
     "metadata": {},
     "output_type": "execute_result"
    }
   ],
   "source": [
    "M=10 # best K-NN regressor\n",
    "results['decision tree (MAE)'] = [train_mae[5], valid_mae[5], test_mae[5]]\n",
    "results"
   ]
  }
 ],
 "metadata": {
  "anaconda-cloud": {},
  "kernelspec": {
   "display_name": "Python 3",
   "language": "python",
   "name": "python3"
  },
  "language_info": {
   "codemirror_mode": {
    "name": "ipython",
    "version": 3
   },
   "file_extension": ".py",
   "mimetype": "text/x-python",
   "name": "python",
   "nbconvert_exporter": "python",
   "pygments_lexer": "ipython3",
   "version": "3.7.0"
  }
 },
 "nbformat": 4,
 "nbformat_minor": 2
}
